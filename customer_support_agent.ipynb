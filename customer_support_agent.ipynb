{
  "nbformat": 4,
  "nbformat_minor": 0,
  "metadata": {
    "colab": {
      "provenance": [],
      "authorship_tag": "ABX9TyM1+/PXlfWCKgznpozIkenf",
      "include_colab_link": true
    },
    "kernelspec": {
      "name": "python3",
      "display_name": "Python 3"
    },
    "language_info": {
      "name": "python"
    }
  },
  "cells": [
    {
      "cell_type": "markdown",
      "metadata": {
        "id": "view-in-github",
        "colab_type": "text"
      },
      "source": [
        "<a href=\"https://colab.research.google.com/github/tayyab5838/langgraph_projects/blob/main/customer_support_agent.ipynb\" target=\"_parent\"><img src=\"https://colab.research.google.com/assets/colab-badge.svg\" alt=\"Open In Colab\"/></a>"
      ]
    },
    {
      "cell_type": "markdown",
      "source": [
        "# Building an Intelligent Customer Support Agent with LangGraph\n",
        "\n",
        "### Motivation\n",
        "In today's fast-paced business environment, efficient and accurate customer support is crucial. Automating the initial stages of customer interaction can significantly reduce response times and improve overall customer satisfaction. This project aims to showcase how advanced language models and graph-based workflows can be combined to create a sophisticated support system that can handle a variety of customer inquiries.\n",
        "\n",
        "### Key Components\n",
        "1. State Management: Using TypedDict to define and manage the state of each customer interaction.\n",
        "2. Query Categorization: Classifying customer queries into Technical, Billing, or General categories.\n",
        "3. Sentiment Analysis: Determining the emotional tone of customer queries.\n",
        "4. Response Generation: Creating appropriate responses based on the query category and sentiment.\n",
        "5. Escalation Mechanism: Automatically escalating queries with negative sentiment to human agents.\n",
        "6. Workflow Graph: Utilizing LangGraph to create a flexible and extensible workflow.\n",
        "### Method Details\n",
        "1. Initialization: Set up the environment and import necessary libraries.\n",
        "2. State Definition: Create a structure to hold query information, category, sentiment, and response.\n",
        "3. Node Functions: Implement separate functions for categorization, sentiment analysis, and response generation.\n",
        "4. Graph Construction: Use StateGraph to define the workflow, adding nodes and edges to represent the support process.\n",
        "5. Conditional Routing: Implement logic to route queries based on their category and sentiment.\n",
        "6. Workflow Compilation: Compile the graph into an executable application.\n",
        "7. Execution: Process customer queries through the workflow and retrieve results."
      ],
      "metadata": {
        "id": "j9tSiHcIe3S2"
      }
    },
    {
      "cell_type": "code",
      "source": [
        "%%capture --no-stderr\n",
        "%pip install --q -U langchain_core langchain_google_genai langgraph"
      ],
      "metadata": {
        "id": "8wvzUSaKgtF8"
      },
      "execution_count": 2,
      "outputs": []
    },
    {
      "cell_type": "code",
      "execution_count": 3,
      "metadata": {
        "id": "BUzBMFtDeknH"
      },
      "outputs": [],
      "source": [
        "from typing_extensions import TypedDict\n",
        "from langgraph.graph import StateGraph, START, END\n",
        "from langchain_core.prompts import ChatPromptTemplate\n",
        "from langchain_google_genai import ChatGoogleGenerativeAI\n",
        "from IPython.display import display, Image\n"
      ]
    },
    {
      "cell_type": "code",
      "source": [
        "from google.colab import userdata\n",
        "import os\n",
        "os.environ[\"GEMINI_API_KEY\"] = userdata.get('GEMNI_API_KEY')"
      ],
      "metadata": {
        "id": "KrtwcJuLhBF0"
      },
      "execution_count": 4,
      "outputs": []
    },
    {
      "cell_type": "markdown",
      "source": [
        "### Define State Structure"
      ],
      "metadata": {
        "id": "6TkwYrzfhdwA"
      }
    },
    {
      "cell_type": "code",
      "source": [
        "class State(TypedDict):\n",
        "  query: str\n",
        "  category: str\n",
        "  sentiment: str\n",
        "  response: str"
      ],
      "metadata": {
        "id": "Pjku8JLMhZa0"
      },
      "execution_count": 5,
      "outputs": []
    },
    {
      "cell_type": "markdown",
      "source": [
        "### Define Node Functions"
      ],
      "metadata": {
        "id": "AzIL3BHuh5Bg"
      }
    },
    {
      "cell_type": "code",
      "source": [
        "def categorize(state: State)-> State:\n",
        "  \"\"\"Categorize the customer query into Technical, Billing, or General.\"\"\"\n",
        "  prompt = ChatPromptTemplate.from_template(\n",
        "      \"Categorize the following customer query into one of these categories: \"\n",
        "        \"Technical, Billing, General. Query: {query}\"\n",
        "  )\n",
        "  chain = prompt | ChatGoogleGenerativeAI(model=\"gemini-1.5-flash\", api_key=os.environ[\"GEMINI_API_KEY\"])\n",
        "  category = chain.invoke({\"query\": state[\"query\"]})\n",
        "  return {\"category\": category}\n",
        "\n",
        "def analyze_sentiment(state: State)-> State:\n",
        "    \"\"\"Analyze the sentiment of the customer query as Positive, Neutral, or Negative.\"\"\"\n",
        "    prompt = ChatPromptTemplate.from_template(\n",
        "        \"Analyze the sentiment of the following customer query. \"\n",
        "        \"Respond with either 'Positive', 'Neutral', or 'Negative'. Query: {query}\"\n",
        "    )\n",
        "    chain = prompt | ChatGoogleGenerativeAI(model=\"gemini-1.5-flash\", api_key=os.environ[\"GEMINI_API_KEY\"])\n",
        "    sentiment = chain.invoke({\"query\": state[\"query\"]})\n",
        "    return {\"sentiment\": sentiment}\n",
        "\n",
        "def handle_technical_queries(state: State)-> State:\n",
        "    \"\"\"Handle queries related to technical issues.\"\"\"\n",
        "    prompt = ChatPromptTemplate.from_template(\n",
        "    \"Provide a technical support response to the following query: {query}\"\n",
        "    )\n",
        "    chain = prompt | ChatGoogleGenerativeAI(model=\"gemini-1.5-flash\", api_key=os.environ[\"GEMINI_API_KEY\"])\n",
        "    response = chain.invoke({\"query\": state[\"query\"]})\n",
        "    return {\"response\": response}\n",
        "\n",
        "def handle_billing_queries(state: State)-> State:\n",
        "   \"\"\"Provide a billing support response to the query.\"\"\"\n",
        "   prompt = ChatPromptTemplate.from_template(\n",
        "       \"Provide a billing support response to the following query: {query}\"\n",
        "   )\n",
        "   chain = prompt | ChatGoogleGenerativeAI(model=\"gemini-1.5-flash\", api_key=os.environ[\"GEMINI_API_KEY\"])\n",
        "   response = chain.invoke({\"query\": state[\"query\"]})\n",
        "   return {\"response\": response}\n",
        "\n",
        "def handle_general_queries(state: State)-> State:\n",
        "    \"\"\"Provide a general support response to the query.\"\"\"\n",
        "    prompt = ChatPromptTemplate.from_template(\n",
        "        \"Provide a general support response to the following query: {query}\"\n",
        "    )\n",
        "    chain = prompt | ChatGoogleGenerativeAI(model=\"gemini-1.5-flash\", api_key=os.environ[\"GEMINI_API_KEY\"])\n",
        "    response = chain.invoke({\"query\": state[\"query\"]})\n",
        "    return {\"response\": response}\n",
        "\n",
        "def escalate_to_human(state: State)-> State:\n",
        "    \"\"\"Escalate the query to a human agent if the sentiment is negative.\"\"\"\n",
        "    return {\"response\": \"Query has been escalated to a human agent due to negative sentiments.\"}\n",
        "\n",
        "def rout_query(state: State)-> str:\n",
        "    \"\"\"Route the query based on its category and sentiment.\"\"\"\n",
        "    if state[\"sentiment\"] == \"Negative\":\n",
        "        return \"escalate_to_human\"\n",
        "    elif state[\"category\"] == \"Technical\":\n",
        "        return \"handle_technical_queries\"\n",
        "    elif state[\"category\"] == \"Billing\":\n",
        "        return \"handle_billing_queries\"\n",
        "    else:\n",
        "        return \"handle_general_queries\""
      ],
      "metadata": {
        "id": "XCoCMz-Ah1lh"
      },
      "execution_count": 6,
      "outputs": []
    },
    {
      "cell_type": "markdown",
      "source": [
        "### Create and Configure the Graph\n"
      ],
      "metadata": {
        "id": "ndJ5XoMK4Da7"
      }
    },
    {
      "cell_type": "code",
      "source": [
        "builder: StateGraph = StateGraph(State)\n",
        "\n",
        "builder.add_node(\"categorize\", categorize)\n",
        "builder.add_node(\"analyze_sentiment\", analyze_sentiment)\n",
        "builder.add_node(\"handle_technical\", handle_technical_queries)\n",
        "builder.add_node(\"handle_billing\", handle_billing_queries)\n",
        "builder.add_node(\"handle_general_queries\", handle_general_queries)\n",
        "builder.add_node(\"escalate_to_human\", escalate_to_human)\n",
        "\n",
        "builder.add_edge(START, \"categorize\")\n",
        "builder.add_edge(\"categorize\", \"analyze_sentiment\")\n",
        "builder.add_conditional_edges(\n",
        "    \"analyze_sentiment\",\n",
        "    rout_query,\n",
        "    {\n",
        "\n",
        "        \"handle_technical\": \"handle_technical\",\n",
        "        \"handle_billing\": \"handle_billing\",\n",
        "        \"handle_general_queries\": \"handle_general_queries\",\n",
        "        \"escalate_to_human\": \"escalate_to_human\"\n",
        "    }\n",
        ")\n",
        "builder.add_edge(\"handle_technical\", END)\n",
        "builder.add_edge(\"handle_billing\", END)\n",
        "builder.add_edge(\"handle_general_queries\", END)\n",
        "builder.add_edge(\"escalate_to_human\", END)\n",
        "\n",
        "graph = builder.compile()"
      ],
      "metadata": {
        "id": "ISZ3LIapzSK_"
      },
      "execution_count": 7,
      "outputs": []
    },
    {
      "cell_type": "code",
      "source": [
        "display(Image(graph.get_graph().draw_mermaid_png()))"
      ],
      "metadata": {
        "colab": {
          "base_uri": "https://localhost:8080/",
          "height": 384
        },
        "id": "BzTrQ0el8f0X",
        "outputId": "5b09fcb8-2877-427b-e691-803a0cf659c5"
      },
      "execution_count": 8,
      "outputs": [
        {
          "output_type": "display_data",
          "data": {
            "image/jpeg": "[encoded data removed]",
            "text/plain": [
              "<IPython.core.display.Image object>"
            ]
          },
          "metadata": {}
        }
      ]
    },
    {
      "cell_type": "code",
      "source": [
        "def run_customer_support(query: str):\n",
        "    \"\"\"Process a customer query through the LangGraph workflow.\n",
        "\n",
        "    Args:\n",
        "        query (str): The customer's query\n",
        "\n",
        "    Returns:\n",
        "        Dict[str, str]: A dictionary containing the query's category, sentiment, and response\n",
        "    \"\"\"\n",
        "    results = graph.invoke({\"query\": query})\n",
        "    return {\n",
        "        \"category\": results[\"category\"],\n",
        "        \"sentiment\": results[\"sentiment\"],\n",
        "        \"response\": results[\"response\"]\n",
        "    }"
      ],
      "metadata": {
        "id": "AgFvxRrY-EDp"
      },
      "execution_count": 9,
      "outputs": []
    },
    {
      "cell_type": "code",
      "source": [
        "# escalate\n",
        "\n",
        "query = \"My internet connection keeps dropping. Can you help?\"\n",
        "result = run_customer_support(query)\n",
        "print(f\"Query: {query}\")\n",
        "print(f\"Category: {result['category']}\")\n",
        "print(f\"Sentiment: {result['sentiment']}\")\n",
        "print(f\"Response: {result['response']}\")\n",
        "print(\"\\n\")"
      ],
      "metadata": {
        "colab": {
          "base_uri": "https://localhost:8080/"
        },
        "id": "CxaZgcH4-q6p",
        "outputId": "42a6ebb6-b0c2-4c11-f8d2-f138573dc756"
      },
      "execution_count": 10,
      "outputs": [
        {
          "output_type": "stream",
          "name": "stdout",
          "text": [
            "Query: My internet connection keeps dropping. Can you help?\n",
            "Category: content='**Technical** \\n' additional_kwargs={} response_metadata={'prompt_feedback': {'block_reason': 0, 'safety_ratings': []}, 'finish_reason': 'STOP', 'safety_ratings': [{'category': 'HARM_CATEGORY_SEXUALLY_EXPLICIT', 'probability': 'NEGLIGIBLE', 'blocked': False}, {'category': 'HARM_CATEGORY_HATE_SPEECH', 'probability': 'NEGLIGIBLE', 'blocked': False}, {'category': 'HARM_CATEGORY_HARASSMENT', 'probability': 'NEGLIGIBLE', 'blocked': False}, {'category': 'HARM_CATEGORY_DANGEROUS_CONTENT', 'probability': 'NEGLIGIBLE', 'blocked': False}]} id='run-1b8063ea-fae7-4ada-b610-23f3007caedf-0' usage_metadata={'input_tokens': 31, 'output_tokens': 3, 'total_tokens': 34}\n",
            "Sentiment: content='Negative \\n' additional_kwargs={} response_metadata={'prompt_feedback': {'block_reason': 0, 'safety_ratings': []}, 'finish_reason': 'STOP', 'safety_ratings': [{'category': 'HARM_CATEGORY_SEXUALLY_EXPLICIT', 'probability': 'NEGLIGIBLE', 'blocked': False}, {'category': 'HARM_CATEGORY_HATE_SPEECH', 'probability': 'NEGLIGIBLE', 'blocked': False}, {'category': 'HARM_CATEGORY_HARASSMENT', 'probability': 'NEGLIGIBLE', 'blocked': False}, {'category': 'HARM_CATEGORY_DANGEROUS_CONTENT', 'probability': 'NEGLIGIBLE', 'blocked': False}]} id='run-4350266c-aa71-4534-94fa-7d8df96e60e8-0' usage_metadata={'input_tokens': 35, 'output_tokens': 1, 'total_tokens': 36}\n",
            "Response: content=\"I understand your frustration with a dropping internet connection.  It's definitely annoying! To troubleshoot this effectively, I need some more information. \\n\\nCould you please tell me:\\n\\n* **What device(s) are experiencing the issue?** (e.g., computer, phone, smart TV)\\n* **How often does the connection drop?** (e.g., every few minutes, once a day)\\n* **Do all devices lose connection at the same time?**\\n* **What happens when the connection drops?** (e.g., complete loss of internet, slow speeds)\\n* **What steps have you already taken to fix the issue?** (e.g., restarted router, checked for updates)\\n\\nOnce I have this information, I can give you more specific guidance and possible solutions. \\n\" additional_kwargs={} response_metadata={'prompt_feedback': {'block_reason': 0, 'safety_ratings': []}, 'finish_reason': 'STOP', 'safety_ratings': [{'category': 'HARM_CATEGORY_SEXUALLY_EXPLICIT', 'probability': 'NEGLIGIBLE', 'blocked': False}, {'category': 'HARM_CATEGORY_HATE_SPEECH', 'probability': 'NEGLIGIBLE', 'blocked': False}, {'category': 'HARM_CATEGORY_HARASSMENT', 'probability': 'NEGLIGIBLE', 'blocked': False}, {'category': 'HARM_CATEGORY_DANGEROUS_CONTENT', 'probability': 'NEGLIGIBLE', 'blocked': False}]} id='run-58914117-096a-4fcc-a140-8ade9f871311-0' usage_metadata={'input_tokens': 21, 'output_tokens': 169, 'total_tokens': 190}\n",
            "\n",
            "\n"
          ]
        }
      ]
    },
    {
      "cell_type": "code",
      "source": [
        "# handle_billing\n",
        "\n",
        "query = \"where can i find my receipt?\"\n",
        "result = run_customer_support(query)\n",
        "print(f\"Query: {query}\")\n",
        "print(f\"Category: {result['category']}\")\n",
        "print(f\"Sentiment: {result['sentiment']}\")\n",
        "print(f\"Response: {result['response']}\")\n",
        "print(\"\\n\")\n"
      ],
      "metadata": {
        "colab": {
          "base_uri": "https://localhost:8080/"
        },
        "id": "3Kd6yQvI_Gk_",
        "outputId": "36e55ec8-3fd4-41e0-e023-265d0264855e"
      },
      "execution_count": 11,
      "outputs": [
        {
          "output_type": "stream",
          "name": "stdout",
          "text": [
            "Query: where can i find my receipt?\n",
            "Category: content='This query falls into the **Billing** category. \\n' additional_kwargs={} response_metadata={'prompt_feedback': {'block_reason': 0, 'safety_ratings': []}, 'finish_reason': 'STOP', 'safety_ratings': [{'category': 'HARM_CATEGORY_SEXUALLY_EXPLICIT', 'probability': 'NEGLIGIBLE', 'blocked': False}, {'category': 'HARM_CATEGORY_HATE_SPEECH', 'probability': 'NEGLIGIBLE', 'blocked': False}, {'category': 'HARM_CATEGORY_HARASSMENT', 'probability': 'NEGLIGIBLE', 'blocked': False}, {'category': 'HARM_CATEGORY_DANGEROUS_CONTENT', 'probability': 'NEGLIGIBLE', 'blocked': False}]} id='run-85a58150-e37b-45b1-8bfb-f1c82a6f767c-0' usage_metadata={'input_tokens': 28, 'output_tokens': 10, 'total_tokens': 38}\n",
            "Sentiment: content='Neutral \\n' additional_kwargs={} response_metadata={'prompt_feedback': {'block_reason': 0, 'safety_ratings': []}, 'finish_reason': 'STOP', 'safety_ratings': [{'category': 'HARM_CATEGORY_SEXUALLY_EXPLICIT', 'probability': 'NEGLIGIBLE', 'blocked': False}, {'category': 'HARM_CATEGORY_HATE_SPEECH', 'probability': 'NEGLIGIBLE', 'blocked': False}, {'category': 'HARM_CATEGORY_HARASSMENT', 'probability': 'NEGLIGIBLE', 'blocked': False}, {'category': 'HARM_CATEGORY_DANGEROUS_CONTENT', 'probability': 'NEGLIGIBLE', 'blocked': False}]} id='run-bd4ec61c-cf8b-4c4e-8674-c280f18dd53a-0' usage_metadata={'input_tokens': 32, 'output_tokens': 1, 'total_tokens': 33}\n",
            "Response: content=\"I understand you're looking for your receipt. To help me assist you better, could you please tell me:\\n\\n* **Where did you make the purchase?** (e.g., online store, physical store, etc.)\\n* **When did you make the purchase?** (e.g., date and approximate time)\\n* **What was the purchase for?** (e.g., product, service, etc.)\\n* **Have you checked your email inbox?** (Many online stores send receipts electronically)\\n* **Do you have an account with the vendor?** (You may be able to access your receipt through your account)\\n\\nOnce I have this information, I can provide more specific guidance on where you can find your receipt. \\n\" additional_kwargs={} response_metadata={'prompt_feedback': {'block_reason': 0, 'safety_ratings': []}, 'finish_reason': 'STOP', 'safety_ratings': [{'category': 'HARM_CATEGORY_SEXUALLY_EXPLICIT', 'probability': 'NEGLIGIBLE', 'blocked': False}, {'category': 'HARM_CATEGORY_HATE_SPEECH', 'probability': 'NEGLIGIBLE', 'blocked': False}, {'category': 'HARM_CATEGORY_HARASSMENT', 'probability': 'NEGLIGIBLE', 'blocked': False}, {'category': 'HARM_CATEGORY_DANGEROUS_CONTENT', 'probability': 'NEGLIGIBLE', 'blocked': False}]} id='run-daba3c46-8be8-4295-8798-51f5df375299-0' usage_metadata={'input_tokens': 18, 'output_tokens': 155, 'total_tokens': 173}\n",
            "\n",
            "\n"
          ]
        }
      ]
    },
    {
      "cell_type": "code",
      "source": [
        "# just another helpter function\n",
        "import textwrap\n",
        "from IPython.display import display, Markdown\n",
        "\n",
        "def to_markdown(text)-> Markdown:\n",
        "    text : str = text.replace(\"•\", \"  *\")\n",
        "    return Markdown(textwrap.indent(text, \"> \", predicate=lambda _: True))"
      ],
      "metadata": {
        "id": "5ic9t554YY3p"
      },
      "execution_count": 12,
      "outputs": []
    },
    {
      "cell_type": "code",
      "source": [
        "to_markdown(result[\"category\"].content)\n"
      ],
      "metadata": {
        "colab": {
          "base_uri": "https://localhost:8080/",
          "height": 62
        },
        "id": "MpUQqzcQZoG_",
        "outputId": "6307277e-f1c9-4b52-fa29-86ad505f2680"
      },
      "execution_count": 23,
      "outputs": [
        {
          "output_type": "execute_result",
          "data": {
            "text/plain": [
              "<IPython.core.display.Markdown object>"
            ],
            "text/markdown": "> This query falls into the **Billing** category. \n"
          },
          "metadata": {},
          "execution_count": 23
        }
      ]
    },
    {
      "cell_type": "code",
      "source": [
        "to_markdown(result[\"sentiment\"].content)\n"
      ],
      "metadata": {
        "colab": {
          "base_uri": "https://localhost:8080/",
          "height": 62
        },
        "id": "l1mCVIoJbre5",
        "outputId": "d3d18eba-b765-4065-b1b6-98d04925c306"
      },
      "execution_count": 24,
      "outputs": [
        {
          "output_type": "execute_result",
          "data": {
            "text/plain": [
              "<IPython.core.display.Markdown object>"
            ],
            "text/markdown": "> Neutral \n"
          },
          "metadata": {},
          "execution_count": 24
        }
      ]
    },
    {
      "cell_type": "code",
      "source": [
        "to_markdown(result[\"response\"].content)"
      ],
      "metadata": {
        "colab": {
          "base_uri": "https://localhost:8080/",
          "height": 213
        },
        "id": "VOMg8kv_bCLF",
        "outputId": "05d61ffa-18f3-4bf0-a69d-5badb28f6b45"
      },
      "execution_count": 25,
      "outputs": [
        {
          "output_type": "execute_result",
          "data": {
            "text/plain": [
              "<IPython.core.display.Markdown object>"
            ],
            "text/markdown": "> I understand you're looking for your receipt. To help me assist you better, could you please tell me:\n> \n> * **Where did you make the purchase?** (e.g., online store, physical store, etc.)\n> * **When did you make the purchase?** (e.g., date and approximate time)\n> * **What was the purchase for?** (e.g., product, service, etc.)\n> * **Have you checked your email inbox?** (Many online stores send receipts electronically)\n> * **Do you have an account with the vendor?** (You may be able to access your receipt through your account)\n> \n> Once I have this information, I can provide more specific guidance on where you can find your receipt. \n"
          },
          "metadata": {},
          "execution_count": 25
        }
      ]
    },
    {
      "cell_type": "code",
      "source": [],
      "metadata": {
        "id": "EFOx7CvNbuR_"
      },
      "execution_count": null,
      "outputs": []
    }
  ]
}