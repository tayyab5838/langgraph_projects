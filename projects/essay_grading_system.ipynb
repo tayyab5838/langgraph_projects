{
  "nbformat": 4,
  "nbformat_minor": 0,
  "metadata": {
    "colab": {
      "provenance": [],
      "authorship_tag": "ABX9TyNdfSDeGKrlThWc8fvS+0F6",
      "include_colab_link": true
    },
    "kernelspec": {
      "name": "python3",
      "display_name": "Python 3"
    },
    "language_info": {
      "name": "python"
    }
  },
  "cells": [
    {
      "cell_type": "markdown",
      "metadata": {
        "id": "view-in-github",
        "colab_type": "text"
      },
      "source": [
        "<a href=\"https://colab.research.google.com/github/tayyab5838/langgraph_projects/blob/main/projects/essay_grading_system.ipynb\" target=\"_parent\"><img src=\"https://colab.research.google.com/assets/colab-badge.svg\" alt=\"Open In Colab\"/></a>"
      ]
    },
    {
      "cell_type": "markdown",
      "source": [
        "# Essay Grading System using LangGraph\n",
        "### Overview\n",
        "This notebook presents an automated essay grading system implemented using LangGraph and an LLM model. The system evaluates essays based on four key criteria: relevance, grammar, structure, and depth of analysis.\n",
        "\n",
        "### Motivation\n",
        "Automated essay grading systems can significantly streamline the assessment process in educational settings, providing consistent and objective evaluations. This implementation aims to demonstrate how large language models and graph-based workflows can be combined to create a sophisticated grading system.\n",
        "\n",
        "### Key Components\n",
        "1. State Graph: Defines the workflow of the grading process\n",
        "2. LLM Model: Provides the underlying language understanding and analysis\n",
        "3. Grading Functions: Separate functions for each evaluation criterion\n",
        "4. Conditional Logic: Determines the flow of the grading process based on interim scores\n",
        "\n",
        "### Method\n",
        "The system follows a step-by-step approach to grade essays:\n",
        "\n",
        "1. Content Relevance: Assesses how well the essay addresses the given topic\n",
        "2. Grammar Check: Evaluates the essay's language usage and grammatical correctness\n",
        "3. Structure Analysis: Examines the organization and flow of ideas in the essay\n",
        "4.Depth of Analysis: Gauges the level of critical thinking and insight presented\n",
        "Each step is conditionally executed based on the scores from previous steps, allowing for early termination of low-quality essays. The final score is a weighted average of all individual component scores.\n",
        "\n",
        "### Conclusion\n",
        "This notebook demonstrates a flexible and extensible approach to automated essay grading. By leveraging the power of large language models and a graph-based workflow, it offers a nuanced evaluation of essays that considers multiple aspects of writing quality. This system could be further refined and adapted for various educational contexts, potentially improving the efficiency and consistency of essay assessments."
      ],
      "metadata": {
        "id": "CjW-igdfkMfQ"
      }
    },
    {
      "cell_type": "code",
      "execution_count": 56,
      "metadata": {
        "id": "P4QNbnS2jwrT"
      },
      "outputs": [],
      "source": [
        "%%capture --no-stderr\n",
        "%pip install --q -U langgraph langchain_core langchain_google_genai"
      ]
    },
    {
      "cell_type": "code",
      "source": [
        "from langgraph.graph import StateGraph, START, END\n",
        "from langgraph.types import Send\n",
        "from langchain_core.prompts import ChatPromptTemplate\n",
        "from langchain_google_genai import ChatGoogleGenerativeAI\n",
        "from IPython.display import display, Image\n",
        "import re"
      ],
      "metadata": {
        "id": "dyI-DQQnmb7x"
      },
      "execution_count": 57,
      "outputs": []
    },
    {
      "cell_type": "code",
      "source": [
        "from google.colab import userdata\n",
        "\n",
        "GEMINI_API_KEY = userdata.get('GEMNI_API_KEY')"
      ],
      "metadata": {
        "id": "9nurxlwUnC07"
      },
      "execution_count": 58,
      "outputs": []
    },
    {
      "cell_type": "markdown",
      "source": [
        "### State Defination"
      ],
      "metadata": {
        "id": "zKXSQSROnfy9"
      }
    },
    {
      "cell_type": "code",
      "source": [
        "from typing_extensions import TypedDict\n",
        "\n",
        "class State(TypedDict):\n",
        "    essay: str\n",
        "    relevance_score: float\n",
        "    grammar_score: float\n",
        "    structure_score: float\n",
        "    depth_score: float\n",
        "    final_score: float\n"
      ],
      "metadata": {
        "id": "oPvoIHecnakJ"
      },
      "execution_count": 59,
      "outputs": []
    },
    {
      "cell_type": "markdown",
      "source": [
        "### Language Model Initialization"
      ],
      "metadata": {
        "id": "ZWlI8_AEoHWV"
      }
    },
    {
      "cell_type": "code",
      "source": [
        "llm = ChatGoogleGenerativeAI(model=\"gemini-1.5-flash\", api_key=GEMINI_API_KEY)"
      ],
      "metadata": {
        "id": "MMB-gi1toGJw"
      },
      "execution_count": 60,
      "outputs": []
    },
    {
      "cell_type": "markdown",
      "source": [
        "### Grading Functions"
      ],
      "metadata": {
        "id": "y9xoUnZroaQN"
      }
    },
    {
      "cell_type": "code",
      "source": [
        "def extractd_score(content: str)->float:\n",
        "  \"\"\" Extract the numeric score from the llm response. \"\"\"\n",
        "  match = re.search(r'(\\d+\\.\\d+)', content)\n",
        "  if match:\n",
        "    return float(match.group(1))\n",
        "  raise ValueError(f\"Could not extract score from: {content}\")\n",
        "\n",
        "def check_relevance(state: State)->State:\n",
        "  \"\"\" Check the relevance of the essay to the given topic. \"\"\"\n",
        "  prompt = ChatPromptTemplate.from_template(\n",
        "      \"Analyze the relevance of the following essay to the given topic. \"\n",
        "      \"Provide a relevance score between 0 and 1. \"\n",
        "      \"Your response should start with 'Score: ' followed by the numeric score, \"\n",
        "      \"then provide your explanation.\\n\\nEssay: {essay}\"\n",
        "  )\n",
        "  result = llm.invoke(prompt.format(essay= state[\"essay\"]))\n",
        "  try:\n",
        "    state[\"relevance_score\"] = extractd_score(result.content)\n",
        "  except ValueError as e:\n",
        "    print(f\"Error in check_relevance: {e}\")\n",
        "    state[\"relevance_score\"] = 0.0\n",
        "  return state\n",
        "\n",
        "def check_grammar(state: State)->State:\n",
        "  \"\"\" Check the grammar of the essay. \"\"\"\n",
        "  prompt = ChatPromptTemplate.from_template(\n",
        "      \"Analyze the grammar and language usage in the following essay. \"\n",
        "      \"Provide a grammar score between 0 and 1. \"\n",
        "      \"Your response should start with 'Score: ' followed by the numeric score, \"\n",
        "      \"then provide your explanation.\\n\\nEssay: {essay}\"\n",
        "  )\n",
        "  result = llm.invoke(prompt.format(essay= state[\"essay\"]))\n",
        "  try:\n",
        "    state[\"grammar_score\"] = extractd_score(result.content)\n",
        "  except ValueError as e:\n",
        "    print(f\"Error in check_grammar: {e}\")\n",
        "    state[\"grammar_score\"] = 0.0\n",
        "  return state\n",
        "\n",
        "def analyze_structure(state: State)->State:\n",
        "  \"\"\" Analyze the structure of the essay. \"\"\"\n",
        "  prompt = ChatPromptTemplate.from_template(\n",
        "     \"Analyze the structure of the following essay. \"\n",
        "     \"Provide a structure score between 0 and 1. \"\n",
        "     \"Your response should start with 'Score: ' followed by the numeric score, \"\n",
        "    \"then provide your explanation.\\n\\nEssay: {essay}\"\n",
        "  )\n",
        "  result = llm.invoke(prompt.format(essay= state[\"essay\"]))\n",
        "  try:\n",
        "    state[\"structure_score\"] = extractd_score(result.content)\n",
        "  except ValueError as e:\n",
        "    print(f\"Error in analyze_structure: {e}\")\n",
        "    state[\"structure_score\"] = 0.0\n",
        "  return state\n",
        "\n",
        "def evaluate_depth(state: State)->State:\n",
        "  \"\"\" Evaluate the depth of the essay. \"\"\"\n",
        "  prompt = ChatPromptTemplate.from_template(\n",
        "  \"Evaluate the depth of analysis in the following essay. \"\n",
        "  \"Provide a depth score between 0 and 1. \"\n",
        "  \"Your response should start with 'Score: ' followed by the numeric score, \"\n",
        "  \"then provide your explanation.\\n\\nEssay: {essay}\"\n",
        "  )\n",
        "  result = llm.invoke(prompt.format(essay= state[\"essay\"]))\n",
        "  try:\n",
        "    state[\"depth_score\"] = extractd_score(result.content)\n",
        "  except ValueError as e:\n",
        "    print(f\"Error in evaluate_depth: {e}\")\n",
        "    state[\"depth_score\"] = 0.0\n",
        "  return state\n",
        "\n",
        "def calculate_final_score(state: State)->State:\n",
        "  \"\"\" Calculate the final score based on individual component scores. \"\"\"\n",
        "  state[\"final_score\"] = (\n",
        "      state[\"relevance_score\"] * 0.3 +\n",
        "      state[\"grammar_score\"] * 0.2 +\n",
        "      state[\"structure_score\"] * 0.2 +\n",
        "      state[\"depth_score\"] * 0.3\n",
        "  )\n",
        "  return state"
      ],
      "metadata": {
        "id": "xW2luE8soXV3"
      },
      "execution_count": 61,
      "outputs": []
    },
    {
      "cell_type": "markdown",
      "source": [
        "### workflow defination"
      ],
      "metadata": {
        "id": "1D3rXiFQWkGH"
      }
    },
    {
      "cell_type": "code",
      "source": [
        "# Initialize the state graph\n",
        "build = StateGraph(State)\n",
        "\n",
        "build.add_node(\"check_relevance\", check_relevance)\n",
        "build.add_node(\"check_grammar\", check_grammar)\n",
        "build.add_node(\"analyze_structure\", analyze_structure)\n",
        "build.add_node(\"evaluate_depth\", evaluate_depth)\n",
        "build.add_node(\"calculate_final_score\", calculate_final_score)\n",
        "\n",
        "build.add_edge(START, \"check_relevance\")\n",
        "\n",
        "build.add_conditional_edges(\n",
        "    \"check_relevance\",\n",
        "    lambda x: \"check_grammar\" if x[\"relevance_score\"] > 0.5 else \"calculate_final_score\",\n",
        ")\n",
        "build.add_conditional_edges(\n",
        "    \"check_grammar\",\n",
        "    lambda x: \"analyze_structure\" if x[\"grammar_score\"] > 0.5 else \"calculate_final_score\",\n",
        ")\n",
        "build.add_conditional_edges(\n",
        "    \"analyze_structure\",\n",
        "    lambda x: \"evaluate_depth\" if x[\"structure_score\"] > 0.5 else \"calculate_final_score\",\n",
        ")\n",
        "build.add_conditional_edges(\n",
        "    \"evaluate_depth\",\n",
        "    lambda x: \"calculate_final_score\"\n",
        ")\n",
        "\n",
        "build.add_edge(\"calculate_final_score\", END)\n",
        "\n",
        "graph = build.compile()"
      ],
      "metadata": {
        "id": "y41WUGpJVj0K"
      },
      "execution_count": 62,
      "outputs": []
    },
    {
      "cell_type": "code",
      "source": [
        "display(Image(graph.get_graph().draw_mermaid_png()))"
      ],
      "metadata": {
        "colab": {
          "base_uri": "https://localhost:8080/",
          "height": 628
        },
        "id": "Xz2BFriNjLKx",
        "outputId": "850c3259-0e28-4c47-f561-dca161533bf9"
      },
      "execution_count": 63,
      "outputs": [
        {
          "output_type": "display_data",
          "data": {
            "image/jpeg": "[encoded data removed]",
            "text/plain": [
              "<IPython.core.display.Image object>"
            ]
          },
          "metadata": {}
        }
      ]
    },
    {
      "cell_type": "code",
      "source": [
        "def essay_grade(essay: str)-> dict:\n",
        "  \"\"\" Grade the essay based on the defined workflow. \"\"\"\n",
        "  initial_state = State(\n",
        "      essay=essay,\n",
        "      relevance_score=0.0,\n",
        "      grammar_score=0.0,\n",
        "      structure_score=0.0,\n",
        "      depth_score=0.0,\n",
        "      final_score=0.0,\n",
        "  )\n",
        "  result = graph.invoke(initial_state)\n",
        "  return result"
      ],
      "metadata": {
        "id": "A8vE-Vx1kO1J"
      },
      "execution_count": 64,
      "outputs": []
    },
    {
      "cell_type": "code",
      "source": [
        "sample_essay = \"\"\"\n",
        "    The Impact of Artificial Intelligence on Modern Society\n",
        "\n",
        "    Artificial Intelligence (AI) has become an integral part of our daily lives,\n",
        "    revolutionizing various sectors including healthcare, finance, and transportation.\n",
        "    This essay explores the profound effects of AI on modern society, discussing both\n",
        "    its benefits and potential challenges.\n",
        "\n",
        "    One of the most significant impacts of AI is in the healthcare industry.\n",
        "    AI-powered diagnostic tools can analyze medical images with high accuracy,\n",
        "    often surpassing human capabilities. This leads to earlier detection of diseases\n",
        "    and more effective treatment plans. Moreover, AI algorithms can process vast\n",
        "    amounts of medical data to identify patterns and insights that might escape\n",
        "    human observation, potentially leading to breakthroughs in drug discovery and\n",
        "    personalized medicine.\n",
        "\n",
        "    In the financial sector, AI has transformed the way transactions are processed\n",
        "    and monitored. Machine learning algorithms can detect fraudulent activities in\n",
        "    real-time, enhancing security for consumers and institutions alike. Robo-advisors\n",
        "    use AI to provide personalized investment advice, democratizing access to\n",
        "    financial planning services.\n",
        "\n",
        "    The transportation industry is another area where AI is making significant strides.\n",
        "    Self-driving cars, powered by complex AI systems, promise to reduce accidents\n",
        "    caused by human error and provide mobility solutions for those unable to drive.\n",
        "    In logistics, AI optimizes routing and inventory management, leading to more\n",
        "    efficient supply chains and reduced environmental impact.\n",
        "\n",
        "    However, the rapid advancement of AI also presents challenges. There are concerns\n",
        "    about job displacement as AI systems become capable of performing tasks\n",
        "    traditionally done by humans. This raises questions about the need for retraining\n",
        "    and reskilling the workforce to adapt to an AI-driven economy.\n",
        "\n",
        "    Privacy and ethical concerns also arise with the increasing use of AI. The vast\n",
        "    amount of data required to train AI systems raises questions about data privacy\n",
        "    and consent. Additionally, there are ongoing debates about the potential biases\n",
        "    in AI algorithms and the need for transparent and accountable AI systems.\n",
        "\n",
        "    In conclusion, while AI offers tremendous benefits and has the potential to solve\n",
        "    some of humanity's most pressing challenges, it also requires careful consideration\n",
        "    of its societal implications. As we continue to integrate AI into various aspects\n",
        "    of our lives, it is crucial to strike a balance between technological advancement\n",
        "    and ethical considerations, ensuring that the benefits of AI are distributed\n",
        "    equitably across society.\n",
        "    \"\"\"\n"
      ],
      "metadata": {
        "id": "GN0d-YJWl3FA"
      },
      "execution_count": 65,
      "outputs": []
    },
    {
      "cell_type": "code",
      "source": [
        "# Grade the sample essay\n",
        "result = essay_grade(sample_essay)\n",
        "\n",
        "# Display the results\n",
        "print(f\"Final Essay Score: {result['final_score']:.2f}\\n\")\n",
        "print(f\"Relevance Score: {result['relevance_score']:.2f}\")\n",
        "print(f\"Grammar Score: {result['grammar_score']:.2f}\")\n",
        "print(f\"Structure Score: {result['structure_score']:.2f}\")\n",
        "print(f\"Depth Score: {result['depth_score']:.2f}\")"
      ],
      "metadata": {
        "colab": {
          "base_uri": "https://localhost:8080/"
        },
        "id": "XLmDPIvDl-dE",
        "outputId": "94ff6ae5-83e0-44d4-c523-9c35bd3eb856"
      },
      "execution_count": 66,
      "outputs": [
        {
          "output_type": "stream",
          "name": "stdout",
          "text": [
            "Final Essay Score: 0.81\n",
            "\n",
            "Relevance Score: 1.00\n",
            "Grammar Score: 0.95\n",
            "Structure Score: 0.70\n",
            "Depth Score: 0.60\n"
          ]
        }
      ]
    },
    {
      "cell_type": "code",
      "source": [],
      "metadata": {
        "id": "LH1FarDxmIpx"
      },
      "execution_count": 66,
      "outputs": []
    }
  ]
}