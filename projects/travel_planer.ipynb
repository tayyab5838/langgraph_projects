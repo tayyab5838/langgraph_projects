{
  "nbformat": 4,
  "nbformat_minor": 0,
  "metadata": {
    "colab": {
      "provenance": [],
      "authorship_tag": "ABX9TyNXUNHXKznOD9M1lSpW6ZfD",
      "include_colab_link": true
    },
    "kernelspec": {
      "name": "python3",
      "display_name": "Python 3"
    },
    "language_info": {
      "name": "python"
    }
  },
  "cells": [
    {
      "cell_type": "markdown",
      "metadata": {
        "id": "view-in-github",
        "colab_type": "text"
      },
      "source": [
        "<a href=\"https://colab.research.google.com/github/tayyab5838/langgraph_projects/blob/main/projects/travel_planer.ipynb\" target=\"_parent\"><img src=\"https://colab.research.google.com/assets/colab-badge.svg\" alt=\"Open In Colab\"/></a>"
      ]
    },
    {
      "cell_type": "code",
      "execution_count": 35,
      "metadata": {
        "id": "x_MbfC9x9W7-"
      },
      "outputs": [],
      "source": [
        "%pip install --q -U langchain_core langgraph langchain-google-genai python-dotenv"
      ]
    },
    {
      "cell_type": "code",
      "source": [
        "from typing_extensions import TypedDict, List, Annotated\n",
        "from langgraph.graph import StateGraph, END\n",
        "from langchain_core.messages import HumanMessage, AIMessage\n",
        "from langchain_google_genai import ChatGoogleGenerativeAI\n",
        "from langchain_core.prompts import ChatPromptTemplate\n",
        "from IPython.display import display, Image\n"
      ],
      "metadata": {
        "id": "dYQwbUUgCqfK"
      },
      "execution_count": 36,
      "outputs": []
    },
    {
      "cell_type": "code",
      "source": [
        "from google.colab import userdata\n",
        "import os\n",
        "os.environ['GEMINI_API_KEY'] = userdata.get('GEMNI_API_KEY')"
      ],
      "metadata": {
        "id": "KhdtHV7iFBaL"
      },
      "execution_count": 37,
      "outputs": []
    },
    {
      "cell_type": "markdown",
      "source": [
        "### Define Agent State"
      ],
      "metadata": {
        "id": "SWDYmSP0Htih"
      }
    },
    {
      "cell_type": "code",
      "source": [
        "class PlannerState(TypedDict):\n",
        "  messages: Annotated[List[HumanMessage | AIMessage], \"Conversation Messages\"]\n",
        "  city: str\n",
        "  interests: List[str]\n",
        "  itinerary: str"
      ],
      "metadata": {
        "id": "C6FPICUMFzZr"
      },
      "execution_count": 38,
      "outputs": []
    },
    {
      "cell_type": "markdown",
      "source": [
        "### Setup language Model and Prompts"
      ],
      "metadata": {
        "id": "C55onXeOmZMj"
      }
    },
    {
      "cell_type": "code",
      "source": [
        "import os\n",
        "llm = ChatGoogleGenerativeAI(model=\"gemini-1.5-flash\", api_key=os.environ['GEMINI_API_KEY'])\n",
        "\n",
        "tinerary_prompt = ChatPromptTemplate.from_messages([\n",
        "    (\"system\", \"You are a helpful travel assistant. Create a day trip itinerary for {city} based on the user's interests: {interests}. Provide a brief, bulleted itinerary. Don't ask follow up questions just give general answer. keep your answer short.\"),\n",
        "    (\"human\", \"Create an itinerary for my day trip.\"),\n",
        "])"
      ],
      "metadata": {
        "id": "gIjDRie7mS7r"
      },
      "execution_count": 39,
      "outputs": []
    },
    {
      "cell_type": "markdown",
      "source": [
        "### Define Agents"
      ],
      "metadata": {
        "id": "O4dHhqAVoc9D"
      }
    },
    {
      "cell_type": "code",
      "source": [
        "def input_city(state: PlannerState) -> PlannerState:\n",
        "  print(\"What city would you like to visit?\")\n",
        "  user_city = input(\"Your Input\")\n",
        "  return {\n",
        "      **state,\n",
        "      \"city\": user_city,\n",
        "      \"messages\": state[\"messages\"] + [HumanMessage(content=user_city)],\n",
        "  }\n",
        "\n",
        "def input_interest(state: PlannerState) -> PlannerState:\n",
        "  print(f\"Please enter your interests for the trip to {state['city']} (comma-separated):\")\n",
        "  user_interests = input(\"Your Input\")\n",
        "  return {\n",
        "      **state,\n",
        "      \"interests\": user_interests.split(\",\"),\n",
        "      \"messages\": state[\"messages\"] + [HumanMessage(content=user_interests)],\n",
        "  }\n",
        "\n",
        "def create_itinerary(state: PlannerState) -> PlannerState:\n",
        "  print(f\"Creating Itinerary for {state['city']} based on interest: {', '.join(state['interests'])} ...\")\n",
        "  response = llm.invoke(tinerary_prompt.format_prompt(city=state[\"city\"], interests=\", \".join(state[\"interests\"])))\n",
        "  print(\"\\n Final Itinerary\")\n",
        "  print(response.content)\n",
        "  return {\n",
        "      **state,\n",
        "      \"itinerary\": response.content,\n",
        "      \"messages\": state[\"messages\"] + [AIMessage(content=response.content)],\n",
        "  }"
      ],
      "metadata": {
        "id": "SLkbVZc1nXL6"
      },
      "execution_count": 40,
      "outputs": []
    },
    {
      "cell_type": "markdown",
      "source": [
        "### Create and Compile the Graph"
      ],
      "metadata": {
        "id": "fAy_t277xzrW"
      }
    },
    {
      "cell_type": "code",
      "source": [
        "workflow = StateGraph(PlannerState)\n",
        "\n",
        "workflow.add_node(\"input_city\", input_city)\n",
        "workflow.add_node(\"input_interest\", input_interest)\n",
        "workflow.add_node(\"create_itinerary\", create_itinerary)\n",
        "\n",
        "workflow.set_entry_point(\"input_city\")\n",
        "\n",
        "workflow.add_edge(\"input_city\", \"input_interest\")\n",
        "workflow.add_edge(\"input_interest\", \"create_itinerary\")\n",
        "workflow.add_edge(\"create_itinerary\", END)\n",
        "\n",
        "app = workflow.compile()"
      ],
      "metadata": {
        "id": "Zyn_OJU6xEme"
      },
      "execution_count": 41,
      "outputs": []
    },
    {
      "cell_type": "code",
      "source": [
        "display(Image(app.get_graph().draw_mermaid_png()))"
      ],
      "metadata": {
        "colab": {
          "base_uri": "https://localhost:8080/",
          "height": 449
        },
        "id": "Q5Xn6KGbyfAt",
        "outputId": "3ad1c539-8b96-455b-876c-e52182190753"
      },
      "execution_count": 42,
      "outputs": [
        {
          "output_type": "display_data",
          "data": {
            "image/jpeg": "[encoded data removed]",
            "text/plain": [
              "<IPython.core.display.Image object>"
            ]
          },
          "metadata": {}
        }
      ]
    },
    {
      "cell_type": "markdown",
      "source": [
        "### Define the function that run the graph"
      ],
      "metadata": {
        "id": "xsLQqLzQy29t"
      }
    },
    {
      "cell_type": "code",
      "source": [
        "def run_travel_planner(user_input: str):\n",
        "  print(f\"Initial Request: \", {user_input})\n",
        "  state = {\n",
        "      \"messages\": [HumanMessage(content=user_input)],\n",
        "      \"city\": \"\",\n",
        "      \"interests\": [],\n",
        "      \"itinerary\": \"\",\n",
        "  }\n",
        "  for output in app.stream(state):\n",
        "    pass # The nodes themselves now handle all the printing"
      ],
      "metadata": {
        "id": "UQrru8Joyvar"
      },
      "execution_count": 43,
      "outputs": []
    },
    {
      "cell_type": "code",
      "source": [
        "user_request = \"I want to plan a day trip\"\n",
        "run_travel_planner(user_request)"
      ],
      "metadata": {
        "id": "u3PFUHGuz-Ct",
        "colab": {
          "base_uri": "https://localhost:8080/"
        },
        "outputId": "c5d7bc74-6e15-42e2-ab07-2bf45fb86b9d"
      },
      "execution_count": 44,
      "outputs": [
        {
          "output_type": "stream",
          "name": "stdout",
          "text": [
            "Initial Request:  {'I want to plan a day trip'}\n",
            "What city would you like to visit?\n",
            "Your Inputcalifornia\n",
            "Please enter your interests for the trip to california (comma-separated):\n",
            "Your Inputtech networking, exploring \n",
            "Creating Itinerary for california based on interest: tech networking,  exploring  ...\n",
            "\n",
            " Final Itinerary\n",
            "* **Morning:** Start your day at the Tech Museum of Innovation in San Jose for interactive exhibits and tech talks. \n",
            "* **Lunch:** Grab lunch at a trendy cafe in the nearby Santana Row, known for its upscale shopping and dining scene.\n",
            "* **Afternoon:** Head to the Computer History Museum in Mountain View to explore the evolution of computing.\n",
            "* **Evening:**  Enjoy dinner at a Silicon Valley restaurant with a focus on innovative cuisine.  \n",
            "\n"
          ]
        }
      ]
    },
    {
      "cell_type": "code",
      "source": [],
      "metadata": {
        "id": "oDzP-z0-8arZ"
      },
      "execution_count": 44,
      "outputs": []
    }
  ]
}